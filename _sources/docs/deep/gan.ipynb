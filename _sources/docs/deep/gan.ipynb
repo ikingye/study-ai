{
 "cells": [
  {
   "cell_type": "markdown",
   "metadata": {},
   "source": "# 生成对抗网络（GAN）\n\n生成对抗网络是一种通过两个神经网络（生成器和判别器）相互对抗的方式进行训练的模型。GAN在图像生成、图像修复、风格迁移等任务中表现出色。"
  },
  {
   "cell_type": "markdown",
   "metadata": {},
   "source": "## GAN的基本结构\n\nGAN由生成器（Generator）和判别器（Discriminator）组成。生成器负责生成逼真的数据，而判别器负责区分生成数据和真实数据。"
  },
  {
   "cell_type": "markdown",
   "metadata": {},
   "source": "### 生成器\n\n生成器接收随机噪声作为输入，生成逼真的数据。生成器的目标是最大化判别器判别错误的概率。"
  },
  {
   "cell_type": "code",
   "metadata": {},
   "source": "import tensorflow as tf\nfrom tensorflow.keras.layers import Dense, Reshape, BatchNormalization, LeakyReLU, Conv2DTranspose\nfrom tensorflow.keras.models import Sequential\n\n# 构建生成器\ngenerator = Sequential([\n    Dense(7*7*256, use_bias=False, input_shape=(100,)),\n    BatchNormalization(),\n    LeakyReLU(),\n    Reshape((7, 7, 256)),\n    Conv2DTranspose(128, (5, 5), strides=(1, 1), padding='same', use_bias=False),\n    BatchNormalization(),\n    LeakyReLU(),\n    Conv2DTranspose(64, (5, 5), strides=(2, 2), padding='same', use_bias=False),\n    BatchNormalization(),\n    LeakyReLU(),\n    Conv2DTranspose(1, (5, 5), strides=(2, 2), padding='same', use_bias=False, activation='tanh')\n])\n\n# 输出生成器摘要\ngenerator.summary()",
   "execution_count": null,
   "outputs": []
  },
  {
   "cell_type": "markdown",
   "metadata": {},
   "source": "### 判别器\n\n判别器接收真实数据和生成数据作为输入，输出数据为真实或生成的概率。判别器的目标是最大化正确分类的概率。"
  },
  {
   "cell_type": "code",
   "metadata": {},
   "source": "from tensorflow.keras.layers import Conv2D, Flatten, Dropout\n\n# 构建判别器\ndiscriminator = Sequential([\n    Conv2D(64, (5, 5), strides=(2, 2), padding='same', input_shape=[28, 28, 1]),\n    LeakyReLU(),\n    Dropout(0.3),\n    Conv2D(128, (5, 5), strides=(2, 2), padding='same'),\n    LeakyReLU(),\n    Dropout(0.3),\n    Flatten(),\n    Dense(1)\n])\n\n# 输出判别器摘要\ndiscriminator.summary()",
   "execution_count": null,
   "outputs": []
  },
  {
   "cell_type": "markdown",
   "metadata": {},
   "source": "## GAN的训练\n\nGAN的训练过程是生成器和判别器交替优化的过程。生成器试图欺骗判别器，而判别器则试图识别生成的数据。"
  },
  {
   "cell_type": "code",
   "metadata": {},
   "source": "from tensorflow.keras.optimizers import Adam\n\n# 编译判别器\noptimizer = Adam(1e-4)\ndiscriminator.compile(optimizer=optimizer, loss='binary_crossentropy', metrics=['accuracy'])\n\n# 编译生成器和判别器组合模型\ndiscriminator.trainable = False\ncombined_model = Sequential([generator, discriminator])\ncombined_model.compile(optimizer=optimizer, loss='binary_crossentropy')\n\n# 输出组合模型摘要\ncombined_model.summary()",
   "execution_count": null,
   "outputs": []
  },
  {
   "cell_type": "markdown",
   "metadata": {},
   "source": "## GAN的应用\n\nGAN在图像生成、图像修复、风格迁移等任务中表现出色。以下是一个使用GAN生成手写数字的示例。"
  },
  {
   "cell_type": "code",
   "metadata": {},
   "source": "import numpy as np\n\n# 加载MNIST数据集\n(x_train, _), _ = tf.keras.datasets.mnist.load_data()\n\n# 数据预处理\nx_train = (x_train - 127.5) / 127.5\nx_train = np.expand_dims(x_train, axis=-1)\n\n# 训练参数\nbatch_size = 256\nepochs = 10000\nnoise_dim = 100\nnum_examples_to_generate = 16\n\n# 随机噪声\nseed = tf.random.normal([num_examples_to_generate, noise_dim])\n\n# 训练GAN\nfor epoch in range(epochs):\n    # 训练判别器\n    idx = np.random.randint(0, x_train.shape[0], batch_size)\n    real_images = x_train[idx]\n    noise = tf.random.normal([batch_size, noise_dim])\n    generated_images = generator(noise)\n\n    real_labels = np.ones((batch_size, 1))\n    fake_labels = np.zeros((batch_size, 1))\n\n    d_loss_real = discriminator.train_on_batch(real_images, real_labels)\n    d_loss_fake = discriminator.train_on_batch(generated_images, fake_labels)\n    d_loss = 0.5 * np.add(d_loss_real, d_loss_fake)\n\n    # 训练生成器\n    noise = tf.random.normal([batch_size, noise_dim])\n    g_loss = combined_model.train_on_batch(noise, real_labels)\n\n    if epoch % 1000 == 0:\n        print(f'Epoch {epoch}, 判别器损失: {d_loss[0]}, 生成器损失: {g_loss}')",
   "execution_count": null,
   "outputs": []
  },
  {
   "cell_type": "markdown",
   "metadata": {},
   "source": "通过以上示例，我们了解了生成对抗网络的基本结构和应用。在接下来的章节中，我们将深入探讨深度学习模型的各种架构，包括ResNet、Inception和Transformer。"
  }
 ],
 "metadata": {
  "kernelspec": {
   "display_name": "Python 3",
   "language": "python",
   "name": "python3"
  },
  "language_info": {
   "codemirror_mode": {
    "name": "ipython",
    "version": 3
   },
   "file_extension": ".py",
   "mimetype": "text/x-python",
   "name": "python",
   "nbconvert_exporter": "python",
   "pygments_lexer": "ipython3",
   "version": "3.8.5"
  }
 },
 "nbformat": 4,
 "nbformat_minor": 4
}

