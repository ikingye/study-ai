{
 "cells": [
  {
   "cell_type": "markdown",
   "metadata": {},
   "source": "# 神经网络基础\n\n神经网络是深度学习的基础，其灵感来源于生物神经系统。神经网络通过模拟大脑的神经元和突触连接，实现对复杂数据的处理和模式识别。"
  },
  {
   "cell_type": "markdown",
   "metadata": {},
   "source": "## 神经网络的组成\n\n一个神经网络由多个神经元组成，这些神经元分为输入层、隐藏层和输出层。每个神经元接收输入信号，通过加权求和和激活函数处理后，输出结果。"
  },
  {
   "cell_type": "markdown",
   "metadata": {},
   "source": "### 输入层\n\n输入层接收外界输入信号，是神经网络的起点。输入层的神经元数量等于输入特征的数量。"
  },
  {
   "cell_type": "markdown",
   "metadata": {},
   "source": "### 隐藏层\n\n隐藏层位于输入层和输出层之间，负责对输入信号进行特征提取和抽象。隐藏层可以有多层，每层包含多个神经元。"
  },
  {
   "cell_type": "code",
   "metadata": {},
   "source": "import tensorflow as tf\nfrom tensorflow.keras.models import Sequential\nfrom tensorflow.keras.layers import Dense\n\n# 构建一个包含两层隐藏层的神经网络\nmodel = Sequential([\n    Dense(128, activation='relu', input_shape=(784,)),\n    Dense(64, activation='relu'),\n    Dense(10, activation='softmax')\n])\n\n# 编译模型\nmodel.compile(optimizer='adam', loss='sparse_categorical_crossentropy', metrics=['accuracy'])\n\n# 输出模型摘要\nmodel.summary()",
   "execution_count": null,
   "outputs": []
  },
  {
   "cell_type": "markdown",
   "metadata": {},
   "source": "### 输出层\n\n输出层接收隐藏层的输出，生成最终的预测结果。输出层的神经元数量等于输出类别的数量。"
  },
  {
   "cell_type": "markdown",
   "metadata": {},
   "source": "## 神经网络的训练\n\n神经网络的训练过程是通过反向传播算法，调整神经元的权重，使模型的预测误差最小化。训练过程包括前向传播、损失计算、反向传播和参数更新。"
  },
  {
   "cell_type": "markdown",
   "metadata": {},
   "source": "### 前向传播\n\n前向传播是指从输入层到输出层的信号传递过程，通过计算每层神经元的加权和和激活函数，得到最终的输出结果。"
  },
  {
   "cell_type": "markdown",
   "metadata": {},
   "source": "### 损失计算\n\n损失函数用于衡量模型的预测误差，常见的损失函数有均方误差（MSE）、交叉熵损失（Cross-Entropy Loss）等。"
  },
  {
   "cell_type": "markdown",
   "metadata": {},
   "source": "### 反向传播\n\n反向传播是指从输出层到输入层的梯度计算过程，通过链式法则计算每个权重的梯度，指导参数更新。"
  },
  {
   "cell_type": "code",
   "metadata": {},
   "source": "# 示例：使用TensorFlow训练一个简单的神经网络\nfrom tensorflow.keras.datasets import mnist\n\n# 加载MNIST数据集\n(x_train, y_train), (x_test, y_test) = mnist.load_data()\n\n# 数据预处理\nx_train = x_train.reshape(-1, 784).astype('float32') / 255\nx_test = x_test.reshape(-1, 784).astype('float32') / 255\n\n# 训练模型\nmodel.fit(x_train, y_train, epochs=5, batch_size=32, validation_data=(x_test, y_test))\n\n# 评估模型\nloss, accuracy = model.evaluate(x_test, y_test)\nprint(f'测试集准确率: {accuracy:.2f}')",
   "execution_count": null,
   "outputs": []
  },
  {
   "cell_type": "markdown",
   "metadata": {},
   "source": "通过以上示例，我们了解了神经网络的基本组成和训练过程。在接下来的章节中，我们将深入探讨卷积神经网络、循环神经网络和生成对抗网络的原理和应用。"
  }
 ],
 "metadata": {
  "kernelspec": {
   "display_name": "Python 3",
   "language": "python",
   "name": "python3"
  },
  "language_info": {
   "codemirror_mode": {
    "name": "ipython",
    "version": 3
   },
   "file_extension": ".py",
   "mimetype": "text/x-python",
   "name": "python",
   "nbconvert_exporter": "python",
   "pygments_lexer": "ipython3",
   "version": "3.8.5"
  }
 },
 "nbformat": 4,
 "nbformat_minor": 4
}

