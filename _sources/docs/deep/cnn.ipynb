{
 "cells": [
  {
   "cell_type": "markdown",
   "metadata": {},
   "source": "# 卷积神经网络（CNN）\n\n卷积神经网络是一种专门用于处理图像数据的神经网络，通过卷积层、池化层和全连接层，自动提取图像特征，实现图像分类、目标检测等任务。"
  },
  {
   "cell_type": "markdown",
   "metadata": {},
   "source": "## 卷积层\n\n卷积层是CNN的核心，通过卷积核对输入图像进行卷积操作，提取局部特征。卷积核的大小和数量决定了提取特征的类型和维度。"
  },
  {
   "cell_type": "code",
   "metadata": {},
   "source": "import tensorflow as tf\nfrom tensorflow.keras.layers import Conv2D, MaxPooling2D, Flatten, Dense\nfrom tensorflow.keras.models import Sequential\n\n# 构建一个简单的卷积神经网络\nmodel = Sequential([\n    Conv2D(32, (3, 3), activation='relu', input_shape=(28, 28, 1)),\n    MaxPooling2D((2, 2)),\n    Conv2D(64, (3, 3), activation='relu'),\n    MaxPooling2D((2, 2)),\n    Flatten(),\n    Dense(64, activation='relu'),\n    Dense(10, activation='softmax')\n])\n\n# 编译模型\nmodel.compile(optimizer='adam', loss='sparse_categorical_crossentropy', metrics=['accuracy'])\n\n# 输出模型摘要\nmodel.summary()",
   "execution_count": null,
   "outputs": []
  },
  {
   "cell_type": "markdown",
   "metadata": {},
   "source": "## 池化层\n\n池化层用于对卷积层提取的特征进行降维，减少特征图的大小，降低计算复杂度。常见的池化操作有最大池化（MaxPooling）和平均池化（AveragePooling）。"
  },
  {
   "cell_type": "code",
   "metadata": {},
   "source": "# 示例：池化操作\nimport numpy as np\n\n# 定义一个4x4的特征图\nfeature_map = np.array([\n    [1, 3, 2, 4],\n    [5, 6, 1, 2],\n    [7, 8, 9, 0],\n    [3, 2, 1, 4]\n])\n\n# 最大池化操作\nmax_pooling = np.max(feature_map.reshape(2, 2, 2, 2), axis=(2, 3))\nprint('最大池化结果:\\n', max_pooling)",
   "execution_count": null,
   "outputs": []
  },
  {
   "cell_type": "markdown",
   "metadata": {},
   "source": "## 全连接层\n\n全连接层位于卷积神经网络的末端，接收池化层输出的特征图，将其展平为一维向量，通过全连接层进行分类或回归任务。"
  },
  {
   "cell_type": "markdown",
   "metadata": {},
   "source": "## CNN的应用\n\n卷积神经网络在图像分类、目标检测、图像分割等任务中表现出色。以下是一个使用卷积神经网络进行图像分类的示例。"
  },
  {
   "cell_type": "code",
   "metadata": {},
   "source": "from tensorflow.keras.datasets import mnist\n\n# 加载MNIST数据集\n(x_train, y_train), (x_test, y_test) = mnist.load_data()\n\n# 数据预处理\nx_train = x_train.reshape(-1, 28, 28, 1).astype('float32') / 255\nx_test = x_test.reshape(-1, 28, 28, 1).astype('float32') / 255\n\n# 训练模型\nmodel.fit(x_train, y_train, epochs=5, batch_size=32, validation_data=(x_test, y_test))\n\n# 评估模型\nloss, accuracy = model.evaluate(x_test, y_test)\nprint(f'测试集准确率: {accuracy:.2f}')",
   "execution_count": null,
   "outputs": []
  },
  {
   "cell_type": "markdown",
   "metadata": {},
   "source": "通过以上示例，我们了解了卷积神经网络的基本组成和应用。在接下来的章节中，我们将深入探讨循环神经网络和生成对抗网络的原理和应用。"
  }
 ],
 "metadata": {
  "kernelspec": {
   "display_name": "Python 3",
   "language": "python",
   "name": "python3"
  },
  "language_info": {
   "codemirror_mode": {
    "name": "ipython",
    "version": 3
   },
   "file_extension": ".py",
   "mimetype": "text/x-python",
   "name": "python",
   "nbconvert_exporter": "python",
   "pygments_lexer": "ipython3",
   "version": "3.8.5"
  }
 },
 "nbformat": 4,
 "nbformat_minor": 4
}

