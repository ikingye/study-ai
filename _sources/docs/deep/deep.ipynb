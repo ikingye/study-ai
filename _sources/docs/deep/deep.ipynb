{
 "cells": [
  {
   "cell_type": "markdown",
   "metadata": {},
   "source": "# 深度学习概述\n\n深度学习是机器学习的一个分支，通过多层神经网络自动提取数据特征进行学习和预测。它在图像识别、语音识别、自然语言处理等领域取得了显著的成果。"
  },
  {
   "cell_type": "markdown",
   "metadata": {},
   "source": "## 深度学习的基础\n\n深度学习的核心是神经网络。神经网络由输入层、隐藏层和输出层组成。每一层由多个神经元构成，神经元之间通过权重连接，形成复杂的网络结构。"
  },
  {
   "cell_type": "markdown",
   "metadata": {},
   "source": "### 神经元\n\n神经元是神经网络的基本单位。每个神经元接收输入信号，通过激活函数进行处理，输出结果。常见的激活函数有ReLU、Sigmoid、Tanh等。"
  },
  {
   "cell_type": "code",
   "metadata": {},
   "source": "import numpy as np\nimport matplotlib.pyplot as plt\n\n# 设置字体和解决负号显示问题\nplt.rcParams['font.sans-serif'] = 'Hiragino Sans GB'\nplt.rcParams['axes.unicode_minus'] = False\n\n# 定义激活函数\nx = np.linspace(-10, 10, 100)\nrelu = np.maximum(0, x)\nsigmoid = 1 / (1 + np.exp(-x))\ntanh = np.tanh(x)\n\n# 绘制激活函数\nplt.figure(figsize=(12, 6))\nplt.plot(x, relu, label='ReLU')\nplt.plot(x, sigmoid, label='Sigmoid')\nplt.plot(x, tanh, label='Tanh')\nplt.title('常见激活函数')\nplt.xlabel('输入值')\nplt.ylabel('输出值')\nplt.legend()\nplt.show()",
   "execution_count": null,
   "outputs": []
  },
  {
   "cell_type": "markdown",
   "metadata": {},
   "source": "## 深度学习框架\n\n常用的深度学习框架包括TensorFlow、Keras、PyTorch等。这些框架提供了高效的计算图和自动求导机制，极大地方便了深度学习模型的构建和训练。"
  },
  {
   "cell_type": "code",
   "metadata": {},
   "source": "# 示例：使用TensorFlow构建一个简单的全连接神经网络\nimport tensorflow as tf\nfrom tensorflow.keras.models import Sequential\nfrom tensorflow.keras.layers import Dense\n\n# 构建模型\nmodel = Sequential([\n    Dense(128, activation='relu', input_shape=(784,)),\n    Dense(64, activation='relu'),\n    Dense(10, activation='softmax')\n])\n\n# 编译模型\nmodel.compile(optimizer='adam', loss='sparse_categorical_crossentropy', metrics=['accuracy'])\n\n# 输出模型摘要\nmodel.summary()",
   "execution_count": null,
   "outputs": []
  },
  {
   "cell_type": "markdown",
   "metadata": {},
   "source": "## 深度学习的应用\n\n深度学习在许多领域都有广泛的应用，以下是几个典型的例子：\n\n### 图像识别\n\n通过卷积神经网络（CNN），深度学习在图像分类、目标检测、图像分割等任务中表现出色。"
  },
  {
   "cell_type": "code",
   "metadata": {},
   "source": "# 示例：使用Keras加载预训练的ResNet50模型进行图像分类\nfrom tensorflow.keras.applications import ResNet50\nfrom tensorflow.keras.applications.resnet50 import preprocess_input, decode_predictions\nfrom tensorflow.keras.preprocessing import image\n\n# 加载预训练模型\nmodel = ResNet50(weights='imagenet')\n\n# 加载和预处理图像\nimg_path = 'elephant.jpg'  # 替换为实际图像路径\nimg = image.load_img(img_path, target_size=(224, 224))\nimg_array = image.img_to_array(img)\nimg_array = np.expand_dims(img_array, axis=0)\nimg_array = preprocess_input(img_array)\n\n# 进行预测\npreds = model.predict(img_array)\nprint('Predicted:', decode_predictions(preds, top=3)[0])",
   "execution_count": null,
   "outputs": []
  },
  {
   "cell_type": "markdown",
   "metadata": {},
   "source": "### 自然语言处理\n\n通过循环神经网络（RNN）和变换器（Transformer），深度学习在机器翻译、情感分析、文本生成等任务中取得了显著的进展。"
  },
  {
   "cell_type": "code",
   "metadata": {},
   "source": "# 示例：使用Transformers库加载预训练的GPT-2模型进行文本生成\nfrom transformers import GPT2LMHeadModel, GPT2Tokenizer\n\n# 加载模型和分词器\ntokenizer = GPT2Tokenizer.from_pretrained('gpt2')\nmodel = GPT2LMHeadModel.from_pretrained('gpt2')\n\n# 输入文本\ninput_text = 'Deep learning is'\ninput_ids = tokenizer.encode(input_text, return_tensors='pt')\n\n# 生成文本\noutput = model.generate(input_ids, max_length=50, num_return_sequences=1)\n\n# 输出生成的文本\nprint(tokenizer.decode(output[0], skip_special_tokens=True))",
   "execution_count": null,
   "outputs": []
  },
  {
   "cell_type": "markdown",
   "metadata": {},
   "source": "通过以上示例，我们了解了深度学习的基础知识、框架和典型应用。在接下来的章节中，我们将深入探讨神经网络、卷积神经网络、循环神经网络和生成对抗网络的原理和应用。"
  }
 ],
 "metadata": {
  "kernelspec": {
   "display_name": "Python 3",
   "language": "python",
   "name": "python3"
  },
  "language_info": {
   "codemirror_mode": {
    "name": "ipython",
    "version": 3
   },
   "file_extension": ".py",
   "mimetype": "text/x-python",
   "name": "python",
   "nbconvert_exporter": "python",
   "pygments_lexer": "ipython3",
   "version": "3.8.5"
  }
 },
 "nbformat": 4,
 "nbformat_minor": 4
}

