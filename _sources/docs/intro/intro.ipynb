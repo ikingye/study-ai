{
 "cells": [
  {
   "cell_type": "markdown",
   "metadata": {},
   "source": [
    "# 机器学习简介\n",
    "\n",
    "在本节中，我们将介绍机器学习的基本概念、应用领域以及一些常见的机器学习算法。机器学习是一门通过数据和算法来让计算机进行预测和决策的学科。"
   ]
  },
  {
   "cell_type": "markdown",
   "metadata": {},
   "source": [
    "## 机器学习的定义\n",
    "\n",
    "机器学习是一种使计算机在没有明确编程指令的情况下通过数据进行学习和改进的技术。它可以用于分类、回归、聚类、降维等多种任务。"
   ]
  },
  {
   "cell_type": "markdown",
   "metadata": {},
   "source": [
    "## 机器学习的应用\n",
    "\n",
    "机器学习有广泛的应用，包括但不限于：\n",
    "\n",
    "- **图像识别**：如面部识别、物体检测。\n",
    "- **自然语言处理**：如语言翻译、情感分析。\n",
    "- **推荐系统**：如电影推荐、商品推荐。\n",
    "- **医疗诊断**：如疾病预测、图像诊断。"
   ]
  },
  {
   "cell_type": "markdown",
   "metadata": {},
   "source": [
    "## 机器学习的分类\n",
    "\n",
    "机器学习主要分为三类：监督学习、无监督学习和强化学习。"
   ]
  },
  {
   "cell_type": "markdown",
   "metadata": {},
   "source": [
    "### 监督学习\n",
    "\n",
    "监督学习使用带标签的数据进行训练，使模型能够从输入特征预测输出标签。常见的监督学习任务包括分类和回归。"
   ]
  },
  {
   "cell_type": "code",
   "execution_count": null,
   "metadata": {},
   "outputs": [],
   "source": [
    "import numpy as np\n",
    "import matplotlib.pyplot as plt\n",
    "from sklearn.linear_model import LinearRegression\n",
    "from sklearn.datasets import make_regression\n",
    "\n",
    "# 设置字体和解决负号显示问题\n",
    "plt.rcParams['font.sans-serif'] = ['Hiragino Sans GB', 'WenQuanYi Zen Hei']\n",
    "plt.rcParams['axes.unicode_minus'] = False\n",
    "\n",
    "# 生成示例数据\n",
    "X, y = make_regression(n_samples=100, n_features=1, noise=0.1)\n",
    "\n",
    "# 拟合线性回归模型\n",
    "model = LinearRegression()\n",
    "model.fit(X, y)\n",
    "\n",
    "# 绘制回归直线\n",
    "plt.scatter(X, y, color='blue')\n",
    "plt.plot(X, model.predict(X), color='red')\n",
    "plt.title('线性回归示例')\n",
    "plt.xlabel('特征')\n",
    "plt.ylabel('目标')\n",
    "plt.show()"
   ]
  },
  {
   "cell_type": "markdown",
   "metadata": {},
   "source": [
    "### 无监督学习\n",
    "\n",
    "无监督学习使用未带标签的数据进行训练，使模型能够发现数据中的结构或模式。常见的无监督学习任务包括聚类和降维。"
   ]
  },
  {
   "cell_type": "code",
   "execution_count": null,
   "metadata": {},
   "outputs": [],
   "source": [
    "from sklearn.datasets import make_blobs\n",
    "from sklearn.cluster import KMeans\n",
    "\n",
    "# 生成示例数据\n",
    "X, _ = make_blobs(n_samples=300, centers=4, cluster_std=0.60, random_state=0)\n",
    "\n",
    "# 拟合 K-means 模型\n",
    "kmeans = KMeans(n_clusters=4)\n",
    "kmeans.fit(X)\n",
    "y_kmeans = kmeans.predict(X)\n",
    "\n",
    "# 绘制聚类结果\n",
    "plt.scatter(X[:, 0], X[:, 1], c=y_kmeans, s=50, cmap='viridis')\n",
    "plt.scatter(kmeans.cluster_centers_[:, 0], kmeans.cluster_centers_[:, 1], s=200, c='red', marker='X')\n",
    "plt.title('K-means 聚类示例')\n",
    "plt.xlabel('特征 1')\n",
    "plt.ylabel('特征 2')\n",
    "plt.show()"
   ]
  },
  {
   "cell_type": "markdown",
   "metadata": {},
   "source": [
    "### 强化学习\n",
    "\n",
    "强化学习通过与环境的互动来学习策略，以最大化累积奖励。它在机器人控制、游戏AI等领域有广泛应用。"
   ]
  },
  {
   "cell_type": "markdown",
   "metadata": {},
   "source": [
    "## 常见的机器学习算法\n",
    "\n",
    "机器学习算法种类繁多，以下是一些常见的机器学习算法：\n",
    "\n",
    "- **线性回归**：用于回归任务，通过拟合一条直线来预测目标值。\n",
    "- **逻辑回归**：用于分类任务，通过估计事件发生的概率来预测类别。\n",
    "- **决策树**：用于分类和回归任务，通过树状结构来做出决策。\n",
    "- **支持向量机**：用于分类任务，通过寻找最优超平面来分离不同类别。\n",
    "- **K-means**：用于聚类任务，通过将数据分为K个簇。\n",
    "- **主成分分析（PCA）**：用于降维任务，通过寻找数据的主成分来降低维度。"
   ]
  },
  {
   "cell_type": "code",
   "execution_count": null,
   "metadata": {},
   "outputs": [],
   "source": [
    "from sklearn.decomposition import PCA\n",
    "from sklearn.datasets import load_iris\n",
    "\n",
    "# 加载示例数据\n",
    "iris = load_iris()\n",
    "X = iris.data\n",
    "\n",
    "# 拟合 PCA 模型\n",
    "pca = PCA(n_components=2)\n",
    "X_pca = pca.fit_transform(X)\n",
    "\n",
    "# 绘制降维结果\n",
    "plt.scatter(X_pca[:, 0], X_pca[:, 1], c=iris.target, cmap='viridis')\n",
    "plt.title('PCA 降维示例')\n",
    "plt.xlabel('主成分 1')\n",
    "plt.ylabel('主成分 2')\n",
    "plt.show()"
   ]
  },
  {
   "cell_type": "markdown",
   "metadata": {},
   "source": [
    "通过以上内容，我们对机器学习的基本概念、分类和常见算法有了初步了解。在接下来的章节中，我们将深入探讨监督学习和无监督学习的具体方法和应用。"
   ]
  }
 ],
 "metadata": {
  "kernelspec": {
   "display_name": "Python 3",
   "language": "python",
   "name": "python3"
  },
  "language_info": {
   "codemirror_mode": {
    "name": "ipython",
    "version": 3
   },
   "file_extension": ".py",
   "mimetype": "text/x-python",
   "name": "python",
   "nbconvert_exporter": "python",
   "pygments_lexer": "ipython3",
   "version": "3.8.5"
  }
 },
 "nbformat": 4,
 "nbformat_minor": 4
}
