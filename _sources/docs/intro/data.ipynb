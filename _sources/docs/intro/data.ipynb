{
 "cells": [
  {
   "cell_type": "markdown",
   "metadata": {},
   "source": "# 数据在机器学习中的重要性\n\n在机器学习中，数据是训练和测试模型的基础。数据可以分为多种类型，每种类型的数据在不同的机器学习任务中有不同的应用。"
  },
  {
   "cell_type": "markdown",
   "metadata": {},
   "source": "## 数据类型\n\n### 数值数据（Numerical Data）\n\n数值数据是指可以用数字表示的数据。它可以进一步分为连续型数据和离散型数据。连续型数据如温度、身高，离散型数据如人口数量、房间数量。"
  },
  {
   "cell_type": "code",
   "metadata": {},
   "source": "import numpy as np\nimport pandas as pd\nimport matplotlib.pyplot as plt\n\n# 设置字体和解决负号显示问题\nplt.rcParams['font.sans-serif'] = ['Hiragino Sans GB', 'WenQuanYi Zen Hei']\nplt.rcParams['axes.unicode_minus'] = False\n\n# 示例：数值数据\nnum_data = {'温度': [20.5, 22.3, 19.8, 23.1, 21.6], '人口数量': [1000, 1500, 1200, 1300, 1400]}\nnum_df = pd.DataFrame(num_data)\nnum_df",
   "execution_count": null,
   "outputs": []
  },
  {
   "cell_type": "markdown",
   "metadata": {},
   "source": "### 分类数据（Categorical Data）\n\n分类数据是指数据值被分为多个类别或标签，如颜色（红、绿、蓝）、职业（医生、工程师、教师）等。"
  },
  {
   "cell_type": "code",
   "metadata": {},
   "source": "# 示例：分类数据\ncat_data = {'颜色': ['红', '绿', '蓝', '绿', '红'], '职业': ['医生', '工程师', '教师', '医生', '教师']}\ncat_df = pd.DataFrame(cat_data)\ncat_df",
   "execution_count": null,
   "outputs": []
  },
  {
   "cell_type": "markdown",
   "metadata": {},
   "source": "### 序列数据（Sequential Data）\n\n序列数据具有时间或顺序关系，如时间序列数据（股票价格、气温变化）和文本数据（句子、文章）。"
  },
  {
   "cell_type": "code",
   "metadata": {},
   "source": "# 示例：时间序列数据\ndates = pd.date_range(start='2023-01-01', periods=5, freq='D')\nseq_data = {'日期': dates, '股票价格': [100, 102, 101, 103, 102]}\nseq_df = pd.DataFrame(seq_data)\nseq_df",
   "execution_count": null,
   "outputs": []
  },
  {
   "cell_type": "markdown",
   "metadata": {},
   "source": "### 图像数据（Image Data）\n\n图像数据通常以像素矩阵形式存在，每个像素有一个或多个颜色通道。它广泛应用于计算机视觉任务，如图像分类、对象检测。"
  },
  {
   "cell_type": "code",
   "metadata": {},
   "source": "from sklearn.datasets import load_sample_image\n\n# 示例：加载和显示图像数据\nimage = load_sample_image('flower.jpg')\nplt.imshow(image)\nplt.title('示例图像')\nplt.axis('off')\nplt.show()",
   "execution_count": null,
   "outputs": []
  },
  {
   "cell_type": "markdown",
   "metadata": {},
   "source": "## 数据收集（Data Collection）\n\n数据收集是机器学习流程的第一步。高质量的数据对模型的成功至关重要。数据收集可以来自多种来源。"
  },
  {
   "cell_type": "markdown",
   "metadata": {},
   "source": "### 数据库\n\n企业内部的数据库往往包含了大量有价值的历史数据。这些数据可以直接用于机器学习模型的训练。"
  },
  {
   "cell_type": "markdown",
   "metadata": {},
   "source": "### 网络抓取\n\n通过编写爬虫程序，可以从互联网上抓取大量公开数据。例如，从新闻网站抓取文本数据，从电商网站抓取商品信息。"
  },
  {
   "cell_type": "markdown",
   "metadata": {},
   "source": "### 传感器数据\n\n在物联网（IoT）应用中，传感器数据是一个重要的数据来源。例如，智能家居设备、工业传感器等。"
  },
  {
   "cell_type": "markdown",
   "metadata": {},
   "source": "### 开源数据集\n\n许多研究机构和公司会发布开源数据集，供研究人员和开发者使用。例如，著名的开源数据集有ImageNet、CIFAR-10、MNIST等。"
  },
  {
   "cell_type": "markdown",
   "metadata": {},
   "source": "通过上述内容，我们可以了解数据在机器学习中的重要性以及不同类型的数据和数据收集方法。在接下来的章节中，我们将讨论数据预处理和特征工程。"
  }
 ],
 "metadata": {
  "kernelspec": {
   "display_name": "Python 3",
   "language": "python",
   "name": "python3"
  },
  "language_info": {
   "codemirror_mode": {
    "name": "ipython",
    "version": 3
   },
   "file_extension": ".py",
   "mimetype": "text/x-python",
   "name": "python",
   "nbconvert_exporter": "python",
   "pygments_lexer": "ipython3",
   "version": "3.8.5"
  }
 },
 "nbformat": 4,
 "nbformat_minor": 4
}

