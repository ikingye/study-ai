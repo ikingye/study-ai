{
 "cells": [
  {
   "cell_type": "markdown",
   "metadata": {},
   "source": [
    "# 超参数调优\n",
    "\n",
    "超参数调优是指通过调整模型的超参数来优化模型性能的过程。常用的超参数调优方法包括网格搜索、随机搜索和贝叶斯优化等。超参数调优可以显著提高模型的性能，是机器学习实践中的重要步骤。"
   ]
  },
  {
   "cell_type": "markdown",
   "metadata": {},
   "source": [
    "## 网格搜索\n",
    "\n",
    "网格搜索是一种穷举搜索方法，通过对所有可能的超参数组合进行遍历，找到最优的超参数组合。"
   ]
  },
  {
   "cell_type": "code",
   "execution_count": 1,
   "metadata": {},
   "outputs": [
    {
     "name": "stdout",
     "output_type": "stream",
     "text": [
      "最优参数: {'max_depth': None, 'min_samples_split': 5, 'n_estimators': 50}\n",
      "最优准确率: 0.89\n"
     ]
    }
   ],
   "source": [
    "import numpy as np\n",
    "import pandas as pd\n",
    "from sklearn.model_selection import GridSearchCV\n",
    "from sklearn.ensemble import RandomForestClassifier\n",
    "from sklearn.datasets import make_classification\n",
    "import matplotlib.pyplot as plt\n",
    "\n",
    "# 设置字体和解决负号显示问题\n",
    "plt.rcParams['font.sans-serif'] = 'Hiragino Sans GB'\n",
    "plt.rcParams['axes.unicode_minus'] = False\n",
    "\n",
    "# 生成示例数据\n",
    "X, y = make_classification(n_samples=1000, n_features=20, random_state=42)\n",
    "\n",
    "# 定义随机森林模型和较小的参数网格\n",
    "rf = RandomForestClassifier(random_state=42)\n",
    "param_grid = {\n",
    "    'n_estimators': [50, 100],\n",
    "    'max_depth': [None, 10],\n",
    "    'min_samples_split': [2, 5]\n",
    "}\n",
    "\n",
    "# 进行网格搜索\n",
    "grid_search = GridSearchCV(estimator=rf, param_grid=param_grid, cv=3, scoring='accuracy')\n",
    "grid_search.fit(X, y)\n",
    "\n",
    "# 输出最优参数和最优准确率\n",
    "print(f'最优参数: {grid_search.best_params_}')\n",
    "print(f'最优准确率: {grid_search.best_score_:.2f}')\n"
   ]
  },
  {
   "cell_type": "markdown",
   "metadata": {},
   "source": [
    "## 随机搜索\n",
    "\n",
    "随机搜索是一种随机采样的搜索方法，通过在超参数空间中随机选择一些参数组合，找到较优的超参数组合。随机搜索比网格搜索效率更高，适用于超参数空间较大的情况。"
   ]
  },
  {
   "cell_type": "code",
   "execution_count": 4,
   "metadata": {},
   "outputs": [
    {
     "name": "stdout",
     "output_type": "stream",
     "text": [
      "最优参数: {'n_estimators': 50, 'min_samples_split': 2, 'max_depth': 10}\n",
      "最优准确率: 0.90\n"
     ]
    }
   ],
   "source": [
    "from sklearn.model_selection import RandomizedSearchCV\n",
    "\n",
    "# 进行随机搜索\n",
    "random_search = RandomizedSearchCV(estimator=rf, param_distributions=param_grid, n_iter=8, cv=5, scoring='accuracy', random_state=42)\n",
    "random_search.fit(X, y)\n",
    "\n",
    "# 输出最优参数和最优准确率\n",
    "print(f'最优参数: {random_search.best_params_}')\n",
    "print(f'最优准确率: {random_search.best_score_:.2f}')\n"
   ]
  },
  {
   "cell_type": "markdown",
   "metadata": {},
   "source": [
    "## 贝叶斯优化\n",
    "\n",
    "贝叶斯优化是一种基于贝叶斯统计的优化方法，通过构建代理模型，迭代地选择最优的超参数组合。贝叶斯优化比网格搜索和随机搜索更高效，适用于高维度的超参数空间。"
   ]
  },
  {
   "cell_type": "code",
   "execution_count": 5,
   "metadata": {},
   "outputs": [
    {
     "name": "stdout",
     "output_type": "stream",
     "text": [
      "最优参数: OrderedDict([('max_depth', 26), ('min_samples_split', 6), ('n_estimators', 129)])\n",
      "最优准确率: 0.90\n"
     ]
    }
   ],
   "source": [
    "from skopt import BayesSearchCV\n",
    "\n",
    "# 定义贝叶斯优化的搜索空间\n",
    "search_spaces = {\n",
    "    'n_estimators': (50, 200),\n",
    "    'max_depth': (10, 30),\n",
    "    'min_samples_split': (2, 10)\n",
    "}\n",
    "\n",
    "# 进行贝叶斯优化\n",
    "bayes_search = BayesSearchCV(estimator=rf, search_spaces=search_spaces, n_iter=10, cv=5, scoring='accuracy', random_state=42)\n",
    "bayes_search.fit(X, y)\n",
    "\n",
    "# 输出最优参数和最优准确率\n",
    "print(f'最优参数: {bayes_search.best_params_}')\n",
    "print(f'最优准确率: {bayes_search.best_score_:.2f}')"
   ]
  },
  {
   "cell_type": "markdown",
   "metadata": {},
   "source": [
    "通过以上示例，我们了解了网格搜索、随机搜索和贝叶斯优化的基本原理和应用。在实际应用中，选择合适的超参数调优方法可以显著提高模型的性能。"
   ]
  }
 ],
 "metadata": {
  "kernelspec": {
   "display_name": "Python 3",
   "language": "python",
   "name": "python3"
  },
  "language_info": {
   "codemirror_mode": {
    "name": "ipython",
    "version": 3
   },
   "file_extension": ".py",
   "mimetype": "text/x-python",
   "name": "python",
   "nbconvert_exporter": "python",
   "pygments_lexer": "ipython3",
   "version": "3.10.14"
  }
 },
 "nbformat": 4,
 "nbformat_minor": 4
}
