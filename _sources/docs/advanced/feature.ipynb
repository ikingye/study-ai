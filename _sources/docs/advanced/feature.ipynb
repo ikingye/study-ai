{
 "cells": [
  {
   "cell_type": "markdown",
   "metadata": {},
   "source": "# 特征工程\n\n特征工程是指从原始数据中提取和创建新的特征，以提高模型的性能。特征工程包括特征选择、特征提取和特征构建等过程。特征工程在机器学习中起着关键作用，因为好的特征可以显著提高模型的性能。"
  },
  {
   "cell_type": "markdown",
   "metadata": {},
   "source": "## 特征选择\n\n特征选择是指从原始特征中选择出对模型预测最有用的特征。常见的特征选择方法包括过滤法、包裹法和嵌入法等。"
  },
  {
   "cell_type": "code",
   "metadata": {},
   "source": "import numpy as np\nimport pandas as pd\nfrom sklearn.feature_selection import SelectKBest, f_classif\nimport matplotlib.pyplot as plt\n\n# 设置字体和解决负号显示问题\nplt.rcParams['font.sans-serif'] = 'Hiragino Sans GB'\nplt.rcParams['axes.unicode_minus'] = False\n\n# 生成示例数据\nnp.random.seed(42)\nX = np.random.rand(100, 10)\ny = np.random.randint(0, 2, 100)\n\n# 使用过滤法选择最佳特征\nselector = SelectKBest(score_func=f_classif, k=5)\nX_new = selector.fit_transform(X, y)\n\n# 输出选择的特征得分\nscores = selector.scores_\nprint('特征得分:', scores)",
   "execution_count": null,
   "outputs": []
  },
  {
   "cell_type": "markdown",
   "metadata": {},
   "source": "## 特征提取\n\n特征提取是指从原始数据中提取出新的特征。常见的特征提取方法包括主成分分析（PCA）、线性判别分析（LDA）等。"
  },
  {
   "cell_type": "code",
   "metadata": {},
   "source": "from sklearn.decomposition import PCA\n\n# 使用PCA进行特征提取\npca = PCA(n_components=5)\nX_pca = pca.fit_transform(X)\n\n# 输出提取的特征\nprint('提取的特征:', X_pca)",
   "execution_count": null,
   "outputs": []
  },
  {
   "cell_type": "markdown",
   "metadata": {},
   "source": "## 特征构建\n\n特征构建是指通过组合已有的特征来创建新的特征。特征构建可以利用领域知识，创造出对模型预测更有用的特征。"
  },
  {
   "cell_type": "code",
   "metadata": {},
   "source": "# 构建新特征\nX_new_feature = X[:, 0] * X[:, 1]\n\n# 将新特征添加到原始数据集中\nX_combined = np.hstack((X, X_new_feature.reshape(-1, 1)))\nprint('新特征集:', X_combined)",
   "execution_count": null,
   "outputs": []
  },
  {
   "cell_type": "markdown",
   "metadata": {},
   "source": "通过以上示例，我们了解了特征选择、特征提取和特征构建的基本方法和应用。在实际应用中，特征工程可以显著提高模型的性能，是机器学习实践中的重要步骤。"
  }
 ],
 "metadata": {
  "kernelspec": {
   "display_name": "Python 3",
   "language": "python",
   "name": "python3"
  },
  "language_info": {
   "codemirror_mode": {
    "name": "ipython",
    "version": 3
   },
   "file_extension": ".py",
   "mimetype": "text/x-python",
   "name": "python",
   "nbconvert_exporter": "python",
   "pygments_lexer": "ipython3",
   "version": "3.8.5"
  }
 },
 "nbformat": 4,
 "nbformat_minor": 4
}

