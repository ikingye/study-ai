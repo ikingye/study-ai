{
 "cells": [
  {
   "cell_type": "markdown",
   "metadata": {},
   "source": "# 模型验证\n\n模型验证是评估模型在新数据上的性能的重要步骤。常见的模型验证方法包括留出法、交叉验证和自助法（Bootstrap）等。"
  },
  {
   "cell_type": "markdown",
   "metadata": {},
   "source": "## 留出法\n\n留出法是将数据集划分为训练集和测试集，用训练集训练模型，用测试集评估模型性能的一种方法。"
  },
  {
   "cell_type": "code",
   "metadata": {},
   "source": "from sklearn.model_selection import train_test_split\nfrom sklearn.metrics import accuracy_score\n\n# 划分数据集\nX_train, X_test, y_train, y_test = train_test_split(X, y, test_size=0.3, random_state=42)\n\n# 训练模型\nmodel.fit(X_train, y_train)\n\n# 预测并计算准确率\ny_pred = model.predict(X_test)\naccuracy = accuracy_score(y_test, y_pred)\nprint(f'留出法的准确率: {accuracy:.2f}')",
   "execution_count": null,
   "outputs": []
  },
  {
   "cell_type": "markdown",
   "metadata": {},
   "source": "## 交叉验证\n\n交叉验证是一种常用的模型验证方法，通过将数据划分为多个子集，反复训练和验证模型，评估其性能。常见的交叉验证方法有k折交叉验证、留一法交叉验证等。"
  },
  {
   "cell_type": "code",
   "metadata": {},
   "source": "from sklearn.model_selection import cross_val_score, KFold\n\n# 定义k折交叉验证\nkf = KFold(n_splits=5)\nscores = cross_val_score(model, X, y, cv=kf)\n\n# 输出交叉验证得分\nprint(f'交叉验证得分: {scores}')\nprint(f'平均得分: {np.mean(scores):.2f}')",
   "execution_count": null,
   "outputs": []
  },
  {
   "cell_type": "markdown",
   "metadata": {},
   "source": "## 自助法\n\n自助法是一种基于重采样的模型验证方法，通过多次从原始数据集中有放回地抽样，形成多个训练集和测试集，评估模型性能。"
  },
  {
   "cell_type": "code",
   "metadata": {},
   "source": "from sklearn.utils import resample\n\n# 自助法验证模型\nn_iterations = 100\nn_size = int(len(X) * 0.7)\n\nscores = list()\nfor i in range(n_iterations):\n    # 重采样数据集\n    X_train, y_train = resample(X, y, n_samples=n_size, random_state=i)\n    X_test = np.array([x for x in X if x.tolist() not in X_train.tolist()])\n    y_test = np.array([y[i] for i in range(len(y)) if X[i].tolist() not in X_train.tolist()])\n    \n    # 拟合模型\n    model.fit(X_train, y_train)\n    \n    # 预测并计算准确率\n    y_pred = model.predict(X_test)\n    score = accuracy_score(y_test, y_pred)\n    scores.append(score)\n\n# 输出自助法的平均准确率\nprint(f'自助法的平均准确率: {np.mean(scores):.2f}')",
   "execution_count": null,
   "outputs": []
  },
  {
   "cell_type": "markdown",
   "metadata": {},
   "source": "通过以上示例，我们了解了留出法、交叉验证和自助法的基本原理和应用。在实际应用中，选择合适的模型验证方法对于评估模型性能至关重要。"
  }
 ],
 "metadata": {
  "kernelspec": {
   "display_name": "Python 3",
   "language": "python",
   "name": "python3"
  },
  "language_info": {
   "codemirror_mode": {
    "name": "ipython",
    "version": 3
   },
   "file_extension": ".py",
   "mimetype": "text/x-python",
   "name": "python",
   "nbconvert_exporter": "python",
   "pygments_lexer": "ipython3",
   "version": "3.8.5"
  }
 },
 "nbformat": 4,
 "nbformat_minor": 4
}

