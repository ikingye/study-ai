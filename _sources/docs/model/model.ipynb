{
 "cells": [
  {
   "cell_type": "markdown",
   "metadata": {},
   "source": [
    "# 模型选择与评估\n",
    "\n",
    "在机器学习中，模型选择与评估是确保模型性能的重要步骤。本节将详细探讨模型选择、模型验证和模型解释的相关技术和方法。"
   ]
  },
  {
   "cell_type": "markdown",
   "metadata": {},
   "source": [
    "## 模型选择\n",
    "\n",
    "模型选择是指在多个候选模型中选择最优模型的过程。常见的模型选择方法包括交叉验证、信息准则（如AIC、BIC）等。模型选择不仅要考虑模型的预测性能，还要考虑模型的复杂度和泛化能力。"
   ]
  },
  {
   "cell_type": "markdown",
   "metadata": {},
   "source": [
    "### 交叉验证\n",
    "\n",
    "交叉验证是一种常用的模型选择方法，通过将数据划分为训练集和验证集，反复训练和验证模型，评估其性能。常见的交叉验证方法有k折交叉验证、留一法交叉验证等。"
   ]
  },
  {
   "cell_type": "code",
   "execution_count": 7,
   "metadata": {},
   "outputs": [
    {
     "name": "stdout",
     "output_type": "stream",
     "text": [
      "交叉验证得分: [1.         1.         0.86666667 0.93333333 0.83333333]\n",
      "平均得分: 0.93\n"
     ]
    }
   ],
   "source": [
    "import numpy as np\n",
    "import pandas as pd\n",
    "from sklearn.model_selection import cross_val_score, KFold\n",
    "from sklearn.linear_model import LogisticRegression\n",
    "from sklearn.datasets import load_iris\n",
    "import matplotlib.pyplot as plt\n",
    "\n",
    "# 设置字体和解决负号显示问题\n",
    "plt.rcParams['font.sans-serif'] = 'Hiragino Sans GB'\n",
    "plt.rcParams['axes.unicode_minus'] = False\n",
    "\n",
    "# 加载数据集\n",
    "iris = load_iris()\n",
    "X, y = iris.data, iris.target\n",
    "\n",
    "# 定义模型\n",
    "model = LogisticRegression(max_iter=200)\n",
    "\n",
    "# 定义k折交叉验证\n",
    "kf = KFold(n_splits=5)\n",
    "scores = cross_val_score(model, X, y, cv=kf)\n",
    "\n",
    "# 输出交叉验证得分\n",
    "print(f'交叉验证得分: {scores}')\n",
    "print(f'平均得分: {np.mean(scores):.2f}')"
   ]
  },
  {
   "cell_type": "markdown",
   "metadata": {},
   "source": [
    "### 信息准则\n",
    "\n",
    "信息准则是用于模型选择的另一种方法，通过计算模型的拟合优度和复杂度，选择最优模型。常见的信息准则包括AIC（Akaike信息准则）和BIC（贝叶斯信息准则）。"
   ]
  },
  {
   "cell_type": "code",
   "execution_count": 8,
   "metadata": {},
   "outputs": [
    {
     "name": "stdout",
     "output_type": "stream",
     "text": [
      "BIC最小的alpha值: 0.0\n"
     ]
    }
   ],
   "source": [
    "from sklearn.linear_model import LassoLarsIC\n",
    "\n",
    "# 定义LassoLarsIC模型\n",
    "model = LassoLarsIC(criterion='bic')\n",
    "\n",
    "# 拟合模型\n",
    "model.fit(X, y)\n",
    "\n",
    "# 输出BIC最小的alpha值\n",
    "print(f'BIC最小的alpha值: {model.alpha_}')"
   ]
  },
  {
   "cell_type": "markdown",
   "metadata": {},
   "source": [
    "## 模型验证\n",
    "\n",
    "模型验证是评估模型在新数据上的性能的重要步骤。常见的模型验证方法包括留出法、交叉验证和自助法（Bootstrap）等。"
   ]
  },
  {
   "cell_type": "markdown",
   "metadata": {},
   "source": [
    "### 留出法\n",
    "\n",
    "留出法是将数据集划分为训练集和测试集，用训练集训练模型，用测试集评估模型性能的一种方法。"
   ]
  },
  {
   "cell_type": "code",
   "execution_count": 9,
   "metadata": {},
   "outputs": [
    {
     "name": "stdout",
     "output_type": "stream",
     "text": [
      "留出法的准确率: 1.00\n"
     ]
    }
   ],
   "source": [
    "from sklearn.model_selection import train_test_split\n",
    "from sklearn.metrics import accuracy_score\n",
    "from sklearn.linear_model import LogisticRegression\n",
    "\n",
    "# 划分数据集\n",
    "X_train, X_test, y_train, y_test = train_test_split(X, y, test_size=0.3, random_state=42)\n",
    "\n",
    "# 重新定义分类模型\n",
    "model = LogisticRegression(max_iter=200)\n",
    "\n",
    "# 训练模型\n",
    "model.fit(X_train, y_train)\n",
    "\n",
    "# 预测并计算准确率\n",
    "y_pred = model.predict(X_test)\n",
    "accuracy = accuracy_score(y_test, y_pred)\n",
    "print(f'留出法的准确率: {accuracy:.2f}')\n"
   ]
  },
  {
   "cell_type": "markdown",
   "metadata": {},
   "source": [
    "### 自助法\n",
    "\n",
    "自助法是一种基于重采样的模型验证方法，通过多次从原始数据集中有放回地抽样，形成多个训练集和测试集，评估模型性能。"
   ]
  },
  {
   "cell_type": "code",
   "execution_count": 10,
   "metadata": {},
   "outputs": [
    {
     "name": "stdout",
     "output_type": "stream",
     "text": [
      "自助法的平均准确率: 0.96\n"
     ]
    }
   ],
   "source": [
    "from sklearn.utils import resample\n",
    "\n",
    "# 自助法验证模型\n",
    "n_iterations = 100\n",
    "n_size = int(len(X) * 0.7)\n",
    "\n",
    "scores = list()\n",
    "for i in range(n_iterations):\n",
    "    # 重采样数据集\n",
    "    X_train, y_train = resample(X, y, n_samples=n_size, random_state=i)\n",
    "    X_test = np.array([x for x in X if x.tolist() not in X_train.tolist()])\n",
    "    y_test = np.array([y[i] for i in range(len(y)) if X[i].tolist() not in X_train.tolist()])\n",
    "    \n",
    "    # 拟合模型\n",
    "    model.fit(X_train, y_train)\n",
    "    \n",
    "    # 预测并计算准确率\n",
    "    y_pred = model.predict(X_test)\n",
    "    score = accuracy_score(y_test, y_pred)\n",
    "    scores.append(score)\n",
    "\n",
    "# 输出自助法的平均准确率\n",
    "print(f'自助法的平均准确率: {np.mean(scores):.2f}')"
   ]
  },
  {
   "cell_type": "markdown",
   "metadata": {},
   "source": [
    "## 模型解释\n",
    "\n",
    "模型解释是指理解和解释模型的预测结果和内部机制。模型解释在提高模型透明度、可信度和可解释性方面起着重要作用。常见的模型解释方法包括特征重要性、部分依赖图和SHAP值等。"
   ]
  },
  {
   "cell_type": "markdown",
   "metadata": {},
   "source": [
    "### 特征重要性\n",
    "\n",
    "特征重要性是衡量各个特征对模型预测结果贡献大小的一种方法。通过计算特征重要性，我们可以了解哪些特征对模型的预测结果影响最大。"
   ]
  },
  {
   "cell_type": "code",
   "execution_count": 11,
   "metadata": {},
   "outputs": [
    {
     "name": "stdout",
     "output_type": "stream",
     "text": [
      "特征重要性: [0.10612762 0.02167809 0.43612951 0.43606478]\n"
     ]
    }
   ],
   "source": [
    "from sklearn.ensemble import RandomForestClassifier\n",
    "\n",
    "# 训练随机森林模型\n",
    "rf = RandomForestClassifier(n_estimators=100, random_state=42)\n",
    "rf.fit(X, y)\n",
    "\n",
    "# 输出特征重要性\n",
    "importances = rf.feature_importances_\n",
    "print('特征重要性:', importances)"
   ]
  },
  {
   "cell_type": "markdown",
   "metadata": {},
   "source": [
    "### 部分依赖图\n",
    "\n",
    "部分依赖图（PDP）是一种可视化方法，通过展示特定特征对模型预测结果的影响，帮助我们理解模型的预测机制。"
   ]
  },
  {
   "cell_type": "code",
   "execution_count": 13,
   "metadata": {},
   "outputs": [
    {
     "data": {
      "image/png": "[encoded data removed]",
      "text/plain": [
       "<Figure size 1000x500 with 4 Axes>"
      ]
     },
     "metadata": {},
     "output_type": "display_data"
    }
   ],
   "source": [
    "from sklearn.inspection import PartialDependenceDisplay\n",
    "import matplotlib.pyplot as plt\n",
    "\n",
    "# 绘制部分依赖图，指定目标类（例如类 0）\n",
    "fig, ax = plt.subplots(figsize=(10, 5))\n",
    "PartialDependenceDisplay.from_estimator(rf, X, features=[0, 1, 2], target=0, ax=ax)\n",
    "plt.show()\n"
   ]
  },
  {
   "cell_type": "markdown",
   "metadata": {},
   "source": [
    "### SHAP值\n",
    "\n",
    "SHAP值（SHapley Additive exPlanations）是一种基于博弈论的模型解释方法，通过计算每个特征对预测结果的边际贡献，提供全局和局部的模型解释。"
   ]
  },
  {
   "cell_type": "code",
   "execution_count": null,
   "metadata": {},
   "outputs": [],
   "source": [
    "import shap\n",
    "\n",
    "# 计算SHAP值\n",
    "explainer = shap.TreeExplainer(rf)\n",
    "shap_values = explainer.shap_values(X)\n",
    "\n",
    "# 绘制SHAP值\n",
    "shap.summary_plot(shap_values, X)"
   ]
  },
  {
   "cell_type": "markdown",
   "metadata": {},
   "source": [
    "通过以上示例，我们了解了模型选择、模型验证和模型解释的基本方法和应用。在实际应用中，选择合适的模型和验证方法，以及理解和解释模型的预测结果，对于构建高性能、可解释的机器学习模型至关重要。"
   ]
  }
 ],
 "metadata": {
  "kernelspec": {
   "display_name": "Python 3",
   "language": "python",
   "name": "python3"
  },
  "language_info": {
   "codemirror_mode": {
    "name": "ipython",
    "version": 3
   },
   "file_extension": ".py",
   "mimetype": "text/x-python",
   "name": "python",
   "nbconvert_exporter": "python",
   "pygments_lexer": "ipython3",
   "version": "3.10.14"
  }
 },
 "nbformat": 4,
 "nbformat_minor": 4
}
