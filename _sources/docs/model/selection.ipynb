{
 "cells": [
  {
   "cell_type": "markdown",
   "metadata": {},
   "source": "# 模型选择\n\n在机器学习中，模型选择是指在多个候选模型中选择最优模型的过程。模型选择不仅要考虑模型的预测性能，还要考虑模型的复杂度和泛化能力。常见的模型选择方法包括交叉验证、信息准则（如AIC、BIC）等。"
  },
  {
   "cell_type": "markdown",
   "metadata": {},
   "source": "## 交叉验证\n\n交叉验证是一种常用的模型选择方法，通过将数据划分为训练集和验证集，反复训练和验证模型，评估其性能。常见的交叉验证方法有k折交叉验证、留一法交叉验证等。"
  },
  {
   "cell_type": "code",
   "metadata": {},
   "source": "import numpy as np\nimport pandas as pd\nfrom sklearn.model_selection import cross_val_score, KFold\nfrom sklearn.linear_model import LogisticRegression\nfrom sklearn.datasets import load_iris\nimport matplotlib.pyplot as plt\n\n# 设置字体和解决负号显示问题\nplt.rcParams['font.sans-serif'] = 'Hiragino Sans GB'\nplt.rcParams['axes.unicode_minus'] = False\n\n# 加载数据集\niris = load_iris()\nX, y = iris.data, iris.target\n\n# 定义模型\nmodel = LogisticRegression(max_iter=200)\n\n# 定义k折交叉验证\nkf = KFold(n_splits=5)\nscores = cross_val_score(model, X, y, cv=kf)\n\n# 输出交叉验证得分\nprint(f'交叉验证得分: {scores}')\nprint(f'平均得分: {np.mean(scores):.2f}')",
   "execution_count": null,
   "outputs": []
  },
  {
   "cell_type": "markdown",
   "metadata": {},
   "source": "## 信息准则\n\n信息准则是用于模型选择的另一种方法，通过计算模型的拟合优度和复杂度，选择最优模型。常见的信息准则包括AIC（Akaike信息准则）和BIC（贝叶斯信息准则）。"
  },
  {
   "cell_type": "code",
   "metadata": {},
   "source": "from sklearn.linear_model import LassoLarsIC\n\n# 定义LassoLarsIC模型\nmodel = LassoLarsIC(criterion='bic')\n\n# 拟合模型\nmodel.fit(X, y)\n\n# 输出BIC最小的alpha值\nprint(f'BIC最小的alpha值: {model.alpha_}')",
   "execution_count": null,
   "outputs": []
  },
  {
   "cell_type": "markdown",
   "metadata": {},
   "source": "## 模型评估\n\n在模型选择过程中，模型评估是不可或缺的一部分。通过评估模型在训练集和验证集上的性能，可以帮助我们选择最优的模型。常见的模型评估指标包括准确率、精确率、召回率、F1分数、均方误差（MSE）等。"
  },
  {
   "cell_type": "code",
   "metadata": {},
   "source": "from sklearn.metrics import accuracy_score, precision_score, recall_score, f1_score, mean_squared_error\n\n# 示例：评估分类模型\nmodel.fit(X, y)\ny_pred = model.predict(X)\naccuracy = accuracy_score(y, y_pred)\nprecision = precision_score(y, y_pred, average='weighted')\nrecall = recall_score(y, y_pred, average='weighted')\nf1 = f1_score(y, y_pred, average='weighted')\n\nprint(f'准确率: {accuracy:.2f}')\nprint(f'精确率: {precision:.2f}')\nprint(f'召回率: {recall:.2f}')\nprint(f'F1 分数: {f1:.2f}')",
   "execution_count": null,
   "outputs": []
  },
  {
   "cell_type": "markdown",
   "metadata": {},
   "source": "通过以上示例，我们了解了模型选择的基本方法和评估指标。在实际应用中，选择合适的模型和评估方法，对于构建高性能的机器学习模型至关重要。"
  }
 ],
 "metadata": {
  "kernelspec": {
   "display_name": "Python 3",
   "language": "python",
   "name": "python3"
  },
  "language_info": {
   "codemirror_mode": {
    "name": "ipython",
    "version": 3
   },
   "file_extension": ".py",
   "mimetype": "text/x-python",
   "name": "python",
   "nbconvert_exporter": "python",
   "pygments_lexer": "ipython3",
   "version": "3.8.5"
  }
 },
 "nbformat": 4,
 "nbformat_minor": 4
}

