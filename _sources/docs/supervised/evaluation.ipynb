{
 "cells": [
  {
   "cell_type": "markdown",
   "metadata": {},
   "source": "# 模型评估\n\n模型评估是衡量模型性能的重要步骤。常见的评估指标包括准确率、精确率、召回率、F1分数等。"
  },
  {
   "cell_type": "markdown",
   "metadata": {},
   "source": "## 分类模型评估\n\n在分类任务中，常用的评估指标有准确率、精确率、召回率和F1分数。"
  },
  {
   "cell_type": "code",
   "metadata": {},
   "source": "from sklearn.metrics import accuracy_score, precision_score, recall_score, f1_score\n\n# 生成示例预测结果\ny_true = [0, 1, 1, 0, 1, 0, 1, 1, 0, 0]\ny_pred = [0, 1, 0, 0, 1, 1, 1, 0, 0, 0]\n\n# 计算评估指标\naccuracy = accuracy_score(y_true, y_pred)\nprecision = precision_score(y_true, y_pred)\nrecall = recall_score(y_true, y_pred)\nf1 = f1_score(y_true, y_pred)\n\nprint(f'准确率: {accuracy}')\nprint(f'精确率: {precision}')\nprint(f'召回率: {recall}')\nprint(f'F1 分数: {f1}')",
   "execution_count": null,
   "outputs": []
  },
  {
   "cell_type": "markdown",
   "metadata": {},
   "source": "## 回归模型评估\n\n在回归任务中，常用的评估指标有均方误差（MSE）和平均绝对误差（MAE）。"
  },
  {
   "cell_type": "code",
   "metadata": {},
   "source": "from sklearn.metrics import mean_squared_error, mean_absolute_error\n\n# 生成示例预测结果\ny_true = [3.0, -0.5, 2.0, 7.0]\ny_pred = [2.5, 0.0, 2.1, 7.8]\n\n# 计算评估指标\nmse = mean_squared_error(y_true, y_pred)\nmae = mean_absolute_error(y_true, y_pred)\n\nprint(f'均方误差: {mse}')\nprint(f'平均绝对误差: {mae}')",
   "execution_count": null,
   "outputs": []
  }
 ],
 "metadata": {
  "kernelspec": {
   "display_name": "Python 3",
   "language": "python",
   "name": "python3"
  },
  "language_info": {
   "codemirror_mode": {
    "name": "ipython",
    "version": 3
   },
   "file_extension": ".py",
   "mimetype": "text/x-python",
   "name": "python",
   "nbconvert_exporter": "python",
   "pygments_lexer": "ipython3",
   "version": "3.8.5"
  }
 },
 "nbformat": 4,
 "nbformat_minor": 4
}

