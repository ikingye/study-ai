{
 "cells": [
  {
   "cell_type": "markdown",
   "metadata": {},
   "source": "# 分类分析\n\n分类分析是一种预测离散型目标变量的监督学习方法。常见的分类算法包括逻辑回归、决策树、支持向量机和K近邻等。"
  },
  {
   "cell_type": "markdown",
   "metadata": {},
   "source": "## 逻辑回归\n\n逻辑回归是一种常用的分类算法，通过估计事件发生的概率来预测类别。"
  },
  {
   "cell_type": "code",
   "metadata": {},
   "source": "import numpy as np\nimport matplotlib.pyplot as plt\nfrom sklearn.datasets import load_iris\nfrom sklearn.linear_model import LogisticRegression\nimport seaborn as sns\n\n# 设置字体和解决负号显示问题\nplt.rcParams['font.sans-serif'] = 'Hiragino Sans GB'\nplt.rcParams['axes.unicode_minus'] = False\n\n# 加载示例数据\niris = load_iris()\nX, y = iris.data, iris.target\n\n# 拟合逻辑回归模型\nmodel = LogisticRegression(max_iter=200)\nmodel.fit(X, y)\n\n# 绘制分类结果\nsns.scatterplot(x=X[:, 0], y=X[:, 1], hue=iris.target_names[y])\nplt.title('逻辑回归分类示例')\nplt.xlabel('特征 1')\nplt.ylabel('特征 2')\nplt.show()",
   "execution_count": null,
   "outputs": []
  },
  {
   "cell_type": "markdown",
   "metadata": {},
   "source": "## 支持向量机\n\n支持向量机（SVM）通过寻找最佳的决策边界来进行分类。"
  },
  {
   "cell_type": "code",
   "metadata": {},
   "source": "from sklearn.svm import SVC\n\n# 拟合支持向量机模型\nsvc_model = SVC(kernel='linear')\nsvc_model.fit(X, y)\n\n# 绘制支持向量机结果\nplt.scatter(X[:, 0], X[:, 1], c=y, cmap='viridis')\nplt.title('支持向量机分类示例')\nplt.xlabel('特征 1')\nplt.ylabel('特征 2')\nplt.show()",
   "execution_count": null,
   "outputs": []
  }
 ],
 "metadata": {
  "kernelspec": {
   "display_name": "Python 3",
   "language": "python",
   "name": "python3"
  },
  "language_info": {
   "codemirror_mode": {
    "name": "ipython",
    "version": 3
   },
   "file_extension": ".py",
   "mimetype": "text/x-python",
   "name": "python",
   "nbconvert_exporter": "python",
   "pygments_lexer": "ipython3",
   "version": "3.8.5"
  }
 },
 "nbformat": 4,
 "nbformat_minor": 4
}

