{
 "cells": [
  {
   "cell_type": "markdown",
   "metadata": {},
   "source": "# 回归分析\n\n回归分析是一种预测数值型目标变量的监督学习方法。常见的回归算法包括线性回归、岭回归和Lasso回归等。"
  },
  {
   "cell_type": "markdown",
   "metadata": {},
   "source": "## 线性回归\n\n线性回归是一种最简单的回归方法，通过拟合一条直线来预测目标值。"
  },
  {
   "cell_type": "code",
   "metadata": {},
   "source": "import numpy as np\nimport matplotlib.pyplot as plt\nfrom sklearn.linear_model import LinearRegression\nfrom sklearn.datasets import make_regression\n\n# 设置字体和解决负号显示问题\nplt.rcParams['font.sans-serif'] = 'Hiragino Sans GB'\nplt.rcParams['axes.unicode_minus'] = False\n\n# 生成示例数据\nX, y = make_regression(n_samples=100, n_features=1, noise=0.1)\n\n# 拟合线性回归模型\nmodel = LinearRegression()\nmodel.fit(X, y)\n\n# 绘制回归直线\nplt.scatter(X, y, color='blue')\nplt.plot(X, model.predict(X), color='red')\nplt.title('线性回归示例')\nplt.xlabel('特征')\nplt.ylabel('目标')\nplt.show()",
   "execution_count": null,
   "outputs": []
  },
  {
   "cell_type": "markdown",
   "metadata": {},
   "source": "## 岭回归\n\n岭回归是一种改进的线性回归，通过在损失函数中加入L2正则化项，来避免过拟合问题。"
  },
  {
   "cell_type": "code",
   "metadata": {},
   "source": "from sklearn.linear_model import Ridge\n\n# 拟合岭回归模型\nridge_model = Ridge(alpha=1.0)\nridge_model.fit(X, y)\n\n# 绘制岭回归结果\nplt.scatter(X, y, color='blue')\nplt.plot(X, ridge_model.predict(X), color='green')\nplt.title('岭回归示例')\nplt.xlabel('特征')\nplt.ylabel('目标')\nplt.show()",
   "execution_count": null,
   "outputs": []
  }
 ],
 "metadata": {
  "kernelspec": {
   "display_name": "Python 3",
   "language": "python",
   "name": "python3"
  },
  "language_info": {
   "codemirror_mode": {
    "name": "ipython",
    "version": 3
   },
   "file_extension": ".py",
   "mimetype": "text/x-python",
   "name": "python",
   "nbconvert_exporter": "python",
   "pygments_lexer": "ipython3",
   "version": "3.8.5"
  }
 },
 "nbformat": 4,
 "nbformat_minor": 4
}

