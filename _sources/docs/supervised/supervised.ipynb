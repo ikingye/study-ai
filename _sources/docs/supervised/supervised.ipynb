{
 "cells": [
  {
   "cell_type": "markdown",
   "metadata": {},
   "source": "# 监督学习\n\n监督学习是机器学习中最常见的一种方法，通过已知的输入数据和对应的输出标签，训练模型使其能够对新数据进行预测。"
  },
  {
   "cell_type": "markdown",
   "metadata": {},
   "source": "## 监督学习的应用\n\n监督学习广泛应用于各种领域，包括：\n\n- **分类**：如垃圾邮件检测、图像识别。\n- **回归**：如房价预测、股票价格预测。"
  },
  {
   "cell_type": "markdown",
   "metadata": {},
   "source": "## 常见的监督学习算法\n\n常见的监督学习算法包括线性回归、逻辑回归、支持向量机、决策树、随机森林等。"
  },
  {
   "cell_type": "markdown",
   "metadata": {},
   "source": "在接下来的章节中，我们将详细探讨回归、分类和模型评估的方法和实例。"
  }
 ],
 "metadata": {
  "kernelspec": {
   "display_name": "Python 3",
   "language": "python",
   "name": "python3"
  },
  "language_info": {
   "codemirror_mode": {
    "name": "ipython",
    "version": 3
   },
   "file_extension": ".py",
   "mimetype": "text/x-python",
   "name": "python",
   "nbconvert_exporter": "python",
   "pygments_lexer": "ipython3",
   "version": "3.8.5"
  }
 },
 "nbformat": 4,
 "nbformat_minor": 4
}

