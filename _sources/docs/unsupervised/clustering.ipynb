{
 "cells": [
  {
   "cell_type": "markdown",
   "metadata": {},
   "source": "# 聚类分析\n\n聚类分析是一种无监督学习方法，旨在将相似的样本聚集在一起，形成簇。聚类分析在市场细分、图像分割、社交网络分析等领域有广泛应用。常见的聚类算法包括K-means聚类、层次聚类和DBSCAN等。"
  },
  {
   "cell_type": "markdown",
   "metadata": {},
   "source": "## K-means聚类\n\nK-means聚类是一种常用的聚类算法，通过迭代优化将数据分为K个簇。每个簇由一个质心代表，算法通过最小化簇内样本到质心的距离平方和来进行聚类。"
  },
  {
   "cell_type": "code",
   "metadata": {},
   "source": "import numpy as np\nimport matplotlib.pyplot as plt\nfrom sklearn.datasets import make_blobs\nfrom sklearn.cluster import KMeans\n\n# 设置字体和解决负号显示问题\nplt.rcParams['font.sans-serif'] = 'Hiragino Sans GB'\nplt.rcParams['axes.unicode_minus'] = False\n\n# 生成示例数据\nX, y = make_blobs(n_samples=300, centers=4, cluster_std=0.60, random_state=0)\n\n# 拟合 K-means 模型\nkmeans = KMeans(n_clusters=4)\nkmeans.fit(X)\ny_kmeans = kmeans.predict(X)\n\n# 绘制聚类结果\nplt.scatter(X[:, 0], X[:, 1], c=y_kmeans, s=50, cmap='viridis')\nplt.scatter(kmeans.cluster_centers_[:, 0], kmeans.cluster_centers_[:, 1], s=200, c='red', marker='X')\nplt.title('K-means 聚类示例')\nplt.xlabel('特征 1')\nplt.ylabel('特征 2')\nplt.show()",
   "execution_count": null,
   "outputs": []
  },
  {
   "cell_type": "markdown",
   "metadata": {},
   "source": "## 层次聚类\n\n层次聚类通过构建聚类树，逐步合并或分裂簇。层次聚类分为自底向上（凝聚型）和自顶向下（分裂型）两种方法。"
  },
  {
   "cell_type": "code",
   "metadata": {},
   "source": "from sklearn.cluster import AgglomerativeClustering\n\n# 拟合层次聚类模型\nhc = AgglomerativeClustering(n_clusters=4)\ny_hc = hc.fit_predict(X)\n\n# 绘制层次聚类结果\nplt.scatter(X[:, 0], X[:, 1], c=y_hc, s=50, cmap='viridis')\nplt.title('层次聚类示例')\nplt.xlabel('特征 1')\nplt.ylabel('特征 2')\nplt.show()",
   "execution_count": null,
   "outputs": []
  },
  {
   "cell_type": "markdown",
   "metadata": {},
   "source": "## DBSCAN\n\nDBSCAN（Density-Based Spatial Clustering of Applications with Noise）是一种基于密度的聚类算法，能够识别任意形状的簇，并自动检测噪声点。"
  },
  {
   "cell_type": "code",
   "metadata": {},
   "source": "from sklearn.cluster import DBSCAN\n\n# 拟合DBSCAN模型\ndbscan = DBSCAN(eps=0.3, min_samples=5)\ny_dbscan = dbscan.fit_predict(X)\n\n# 绘制DBSCAN聚类结果\nplt.scatter(X[:, 0], X[:, 1], c=y_dbscan, s=50, cmap='viridis')\nplt.title('DBSCAN 聚类示例')\nplt.xlabel('特征 1')\nplt.ylabel('特征 2')\nplt.show()",
   "execution_count": null,
   "outputs": []
  },
  {
   "cell_type": "markdown",
   "metadata": {},
   "source": "通过以上示例，我们了解了K-means、层次聚类和DBSCAN的基本原理和应用。在实际应用中，选择合适的聚类算法需要考虑数据的特点和具体的应用场景。"
  }
 ],
 "metadata": {
  "kernelspec": {
   "display_name": "Python 3",
   "language": "python",
   "name": "python3"
  },
  "language_info": {
   "codemirror_mode": {
    "name": "ipython",
    "version": 3
   },
   "file_extension": ".py",
   "mimetype": "text/x-python",
   "name": "python",
   "nbconvert_exporter": "python",
   "pygments_lexer": "ipython3",
   "version": "3.8.5"
  }
 },
 "nbformat": 4,
 "nbformat_minor": 4
}

