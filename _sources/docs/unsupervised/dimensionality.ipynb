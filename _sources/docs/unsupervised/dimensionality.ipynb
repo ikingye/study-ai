{
 "cells": [
  {
   "cell_type": "markdown",
   "metadata": {},
   "source": "# 降维\n\n降维是一种将高维数据映射到低维空间的技术，旨在保留数据的主要特征，同时减少数据的维度。降维在数据可视化、噪声消除和提高模型性能等方面有重要应用。常见的降维方法包括主成分分析（PCA）、t-SNE和LDA等。"
  },
  {
   "cell_type": "markdown",
   "metadata": {},
   "source": "## 主成分分析（PCA）\n\n主成分分析是一种线性降维方法，通过线性变换将数据投影到低维空间，保留数据的主要变异信息。PCA通过寻找数据的主成分，减少数据的维度，同时尽可能保留数据的主要特征。"
  },
  {
   "cell_type": "code",
   "metadata": {},
   "source": "from sklearn.decomposition import PCA\n\n# 生成示例数据\nnp.random.seed(0)\nX = np.random.rand(100, 5)\n\n# 拟合PCA模型\npca = PCA(n_components=2)\nX_pca = pca.fit_transform(X)\n\n# 绘制PCA降维结果\nplt.scatter(X_pca[:, 0], X_pca[:, 1])\nplt.title('PCA 降维示例')\nplt.xlabel('主成分 1')\nplt.ylabel('主成分 2')\nplt.show()",
   "execution_count": null,
   "outputs": []
  },
  {
   "cell_type": "markdown",
   "metadata": {},
   "source": "## t-SNE\n\nt-SNE（t-Distributed Stochastic Neighbor Embedding）是一种非线性降维方法，适用于高维数据的可视化。t-SNE通过保持数据的局部结构，将高维数据映射到低维空间，使得相似的点在低维空间中保持相邻。"
  },
  {
   "cell_type": "code",
   "metadata": {},
   "source": "from sklearn.manifold import TSNE\n\n# 拟合t-SNE模型\ntsne = TSNE(n_components=2, random_state=0)\nX_tsne = tsne.fit_transform(X)\n\n# 绘制t-SNE降维结果\nplt.scatter(X_tsne[:, 0], X_tsne[:, 1])\nplt.title('t-SNE 降维示例')\nplt.xlabel('成分 1')\nplt.ylabel('成分 2')\nplt.show()",
   "execution_count": null,
   "outputs": []
  },
  {
   "cell_type": "markdown",
   "metadata": {},
   "source": "## 线性判别分析（LDA）\n\n线性判别分析是一种监督学习方法，通过线性变换将数据投影到低维空间，同时最大化类间方差和最小化类内方差。LDA在降维的同时，保留了数据的类别信息。"
  },
  {
   "cell_type": "code",
   "metadata": {},
   "source": "from sklearn.discriminant_analysis import LinearDiscriminantAnalysis\n\n# 生成示例数据\nfrom sklearn.datasets import load_iris\niris = load_iris()\nX, y = iris.data, iris.target\n\n# 拟合LDA模型\nlda = LinearDiscriminantAnalysis(n_components=2)\nX_lda = lda.fit_transform(X, y)\n\n# 绘制LDA降维结果\nplt.scatter(X_lda[:, 0], X_lda[:, 1], c=y, cmap='viridis')\nplt.title('LDA 降维示例')\nplt.xlabel('成分 1')\nplt.ylabel('成分 2')\nplt.show()",
   "execution_count": null,
   "outputs": []
  },
  {
   "cell_type": "markdown",
   "metadata": {},
   "source": "以上介绍了PCA、t-SNE和LDA三种常见的降维方法，每种方法都有其特点和适用场景。在实际应用中，可以根据数据的特点和具体需求选择合适的降维方法。"
  }
 ],
 "metadata": {
  "kernelspec": {
   "display_name": "Python 3",
   "language": "python",
   "name": "python3"
  },
  "language_info": {
   "codemirror_mode": {
    "name": "ipython",
    "version": 3
   },
   "file_extension": ".py",
   "mimetype": "text/x-python",
   "name": "python",
   "nbconvert_exporter": "python",
   "pygments_lexer": "ipython3",
   "version": "3.8.5"
  }
 },
 "nbformat": 4,
 "nbformat_minor": 4
}

