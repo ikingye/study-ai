{
 "cells": [
  {
   "cell_type": "markdown",
   "metadata": {},
   "source": "# 异常检测\n\n异常检测是一种识别数据集中异常点或离群点的技术。异常点是指那些显著偏离正常模式的数据点。异常检测在欺诈检测、设备故障预测、网络入侵检测等领域有广泛应用。常见的异常检测方法包括孤立森林、局部离群因子（LOF）和支持向量机（SVM）等。"
  },
  {
   "cell_type": "markdown",
   "metadata": {},
   "source": "## 孤立森林\n\n孤立森林是一种基于树的异常检测方法，通过构建随机树，识别数据中的异常点。孤立森林适用于高维数据，并且对大规模数据集有良好的处理性能。"
  },
  {
   "cell_type": "code",
   "metadata": {},
   "source": "from sklearn.ensemble import IsolationForest\n\n# 生成示例数据\nrng = np.random.RandomState(42)\nX = 0.3 * rng.randn(100, 2)\nX_train = np.r_[X + 2, X - 2]\nX_outliers = rng.uniform(low=-4, high=4, size=(20, 2))\nX = np.r_[X_train, X_outliers]\n\n# 拟合孤立森林模型\nclf = IsolationForest(random_state=0)\nclf.fit(X)\ny_pred = clf.predict(X)\n\n# 绘制异常检测结果\nplt.scatter(X[:, 0], X[:, 1], c=y_pred, cmap='viridis')\nplt.title('孤立森林异常检测示例')\nplt.xlabel('特征 1')\nplt.ylabel('特征 2')\nplt.show()",
   "execution_count": null,
   "outputs": []
  },
  {
   "cell_type": "markdown",
   "metadata": {},
   "source": "## 局部离群因子（LOF）\n\n局部离群因子是一种基于密度的异常检测方法，通过比较样本点和其邻居的局部密度，识别异常点。LOF适用于检测局部异常和全局异常。"
  },
  {
   "cell_type": "code",
   "metadata": {},
   "source": "from sklearn.neighbors import LocalOutlierFactor\n\n# 拟合LOF模型\nlof = LocalOutlierFactor()\ny_pred = lof.fit_predict(X)\n\n# 绘制LOF异常检测结果\nplt.scatter(X[:, 0], X[:, 1], c=y_pred, cmap='viridis')\nplt.title('局部离群因子异常检测示例')\nplt.xlabel('特征 1')\nplt.ylabel('特征 2')\nplt.show()",
   "execution_count": null,
   "outputs": []
  },
  {
   "cell_type": "markdown",
   "metadata": {},
   "source": "## 支持向量机（SVM）\n\n支持向量机不仅可以用于分类任务，还可以用于异常检测。通过构建一个超平面，将数据划分为正常点和异常点。"
  },
  {
   "cell_type": "code",
   "metadata": {},
   "source": "from sklearn.svm import OneClassSVM\n\n# 拟合OneClassSVM模型\nsvm = OneClassSVM(gamma='auto')\nsvm.fit(X)\ny_pred = svm.predict(X)\n\n# 绘制OneClassSVM异常检测结果\nplt.scatter(X[:, 0], X[:, 1], c=y_pred, cmap='viridis')\nplt.title('OneClassSVM 异常检测示例')\nplt.xlabel('特征 1')\nplt.ylabel('特征 2')\nplt.show()",
   "execution_count": null,
   "outputs": []
  },
  {
   "cell_type": "markdown",
   "metadata": {},
   "source": "通过以上示例，我们了解了孤立森林、局部离群因子和支持向量机的基本原理和应用。在实际应用中，选择合适的异常检测方法需要考虑数据的特点和具体的应用场景。"
  }
 ],
 "metadata": {
  "kernelspec": {
   "display_name": "Python 3",
   "language": "python",
   "name": "python3"
  },
  "language_info": {
   "codemirror_mode": {
    "name": "ipython",
    "version": 3
   },
   "file_extension": ".py",
   "mimetype": "text/x-python",
   "name": "python",
   "nbconvert_exporter": "python",
   "pygments_lexer": "ipython3",
   "version": "3.8.5"
  }
 },
 "nbformat": 4,
 "nbformat_minor": 4
}
