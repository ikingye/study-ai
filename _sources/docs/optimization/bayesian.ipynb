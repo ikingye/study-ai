{
 "cells": [
  {
   "cell_type": "markdown",
   "metadata": {},
   "source": "# 贝叶斯优化\n\n贝叶斯优化是一种基于贝叶斯统计的优化方法，通过构建代理模型（如高斯过程），在未知函数上进行高效的全局优化。贝叶斯优化特别适用于高维度、非凸和计算代价较高的优化问题。"
  },
  {
   "cell_type": "markdown",
   "metadata": {},
   "source": "## 高斯过程\n\n高斯过程是一种常用的贝叶斯优化代理模型，通过定义在输入空间上的概率分布，预测目标函数的均值和方差。"
  },
  {
   "cell_type": "code",
   "metadata": {},
   "source": "import numpy as np\nimport matplotlib.pyplot as plt\nfrom sklearn.gaussian_process import GaussianProcessRegressor\nfrom sklearn.gaussian_process.kernels import RBF, ConstantKernel as C\n\n# 设置字体和解决负号显示问题\nplt.rcParams['font.sans-serif'] = 'Hiragino Sans GB'\nplt.rcParams['axes.unicode_minus'] = False\n\n# 定义目标函数\ndef target_function(x):\n    return np.sin(x) + 0.1 * np.random.randn(*x.shape)\n\n# 生成训练数据\nX_train = np.array([1, 3, 5, 6, 7, 8]).reshape(-1, 1)\ny_train = target_function(X_train)\n\n# 定义高斯过程模型\nkernel = C(1.0, (1e-3, 1e3)) * RBF(1, (1e-2, 1e2))\ngp = GaussianProcessRegressor(kernel=kernel, n_restarts_optimizer=10)\n\ngp.fit(X_train, y_train)\n\n# 生成测试数据并预测\ntest_points = np.linspace(0, 10, 100).reshape(-1, 1)\ny_pred, sigma = gp.predict(test_points, return_std=True)\n\n# 绘制结果\nplt.figure(figsize=(10, 5))\nplt.plot(X_train, y_train, 'ro', label='训练数据')\nplt.plot(test_points, y_pred, 'b-', label='预测均值')\nplt.fill_between(test_points.ravel(),\n                 y_pred - 1.96 * sigma,\n                 y_pred + 1.96 * sigma,\n                 alpha=0.2, color='b', label='置信区间')\nplt.xlabel('x')\nplt.ylabel('y')\nplt.title('高斯过程回归')\nplt.legend()\nplt.show()",
   "execution_count": null,
   "outputs": []
  },
  {
   "cell_type": "markdown",
   "metadata": {},
   "source": "## 贝叶斯优化\n\n贝叶斯优化通过在代理模型上选择新的采样点，逐步缩小搜索空间，提高优化效率。常见的采样策略包括期望改进（EI）、概率改进（PI）和最大上界（UCB）等。"
  },
  {
   "cell_type": "code",
   "metadata": {},
   "source": "from skopt import gp_minimize\n\n# 定义优化目标函数\ndef f(x):\n    return (x - 2)**2\n\n# 执行贝叶斯优化\nres = gp_minimize(f, [(-5.0, 5.0)], n_calls=20, random_state=0)\n\n# 输出最优解和最小目标函数值\nprint(f'最优解: {res.x}')\nprint(f'最小目标函数值: {res.fun}')",
   "execution_count": null,
   "outputs": []
  },
  {
   "cell_type": "markdown",
   "metadata": {},
   "source": "通过以上示例，我们了解了高斯过程和贝叶斯优化的基本原理和应用。在实际应用中，贝叶斯优化可以高效地解决高维、非凸和计算代价较高的优化问题。"
  }
 ],
 "metadata": {
  "kernelspec": {
   "display_name": "Python 3",
   "language": "python",
   "name": "python3"
  },
  "language_info": {
   "codemirror_mode": {
    "name": "ipython",
    "version": 3
   },
   "file_extension": ".py",
   "mimetype": "text/x-python",
   "name": "python",
   "nbconvert_exporter": "python",
   "pygments_lexer": "ipython3",
   "version": "3.8.5"
  }
 },
 "nbformat": 4,
 "nbformat_minor": 4
}

